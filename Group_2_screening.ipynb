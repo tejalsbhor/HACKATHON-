{
  "cells": [
    {
      "cell_type": "markdown",
      "metadata": {
        "id": "view-in-github",
        "colab_type": "text"
      },
      "source": [
        "<a href=\"https://colab.research.google.com/github/tejalsbhor/HACKATHON-/blob/main/Group_2_screening.ipynb\" target=\"_parent\"><img src=\"https://colab.research.google.com/assets/colab-badge.svg\" alt=\"Open In Colab\"/></a>"
      ]
    },
    {
      "cell_type": "code",
      "execution_count": null,
      "metadata": {
        "id": "lVX-dqm3RAPu"
      },
      "outputs": [],
      "source": [
        "#Goal: Build a model, taking into account genomic data from a potential patient, age, gender, and other relevant factors you find in research, to determine the risk a patient might have for breast cancer. You can be as specific or as broad in determining which type of breast cancer or which factors are involved in your model, although a more broad model will yield better results. \n",
        "#There are known genes whose sequences play a major role in breast cancer risk. Mutation in such genes can cause a greater risk for breast cancer development. One such gene is BRCA1 (sequence & genetic analysis found here). A solution could potentially include the ability to search a sequenced genome for a gene of interest, determine if the gene sequence is mutated, and use this information to determine risk.\n",
        "#A solution could also include behavioral health risk factors, as found in the dataset linked below.\n",
        "#Resources:\n",
        "#BRFSS Study Data Set-A publicly available data set that combines participant answers to behavioral health questions with health & cancer screenings.\n",
        "# BACA Code \n",
        "\n"
      ]
    },
    {
      "cell_type": "code",
      "execution_count": null,
      "metadata": {
        "id": "5fr6OsfbRxFJ"
      },
      "outputs": [],
      "source": [
        "#Goal: Build a model, taking into account genomic data from a potential patient, age, gender, and other relevant factors you find in research, to determine the risk a patient might have for breast cancer. You can be as specific or as broad in determining which type of breast cancer or which factors are involved in your model, although a more broad model will yield better results. \n",
        "#There are known genes whose sequences play a major role in breast cancer risk. Mutation in such genes can cause a greater risk for breast cancer development. One such gene is BRCA1 (sequence & genetic analysis found here). A solution could potentially include the ability to search a sequenced genome for a gene of interest, determine if the gene sequence is mutated, and use this information to determine risk.\n",
        "#A solution could also include behavioral health risk factors, as found in the dataset linked below.\n",
        "#Resources:\n",
        "#BRFSS Study Data Set-A publicly available data set that combines participant answers to behavioral health questions with health & cancer screenings.\n",
        "# BACA Code \n",
        "#Algorithm claire\n",
        "#instance variables: nonmutated BRCA-1 sequence, patient BRCA-1 sequence, int risk scale\n",
        "#function(gene input) -> \n",
        "  #read in csv file of patient genomic data\n",
        "  #sequence non-mutated BRCA-1 genome against input patient BRCA-1 genome\n",
        "    #for every difference found, count differences\n",
        "  #if/ else if/ else to input # of mutations & assign a risk associated to riskGene (number scale: 0, 40 (?) : no mutation, 1+ mutation)\n",
        "#functions(riskGene, patient environment factors) ->\n",
        "  #accept patient input for risk factors (age, gender, )\n",
        "  #Sequence through if statements, and iteratively increase the point scale of risk\n",
        "  #riskGene2 = riskGene\n",
        "  #People who have inherited a harmful variant in BRCA1 also tend to develop cancer at younger ages than people who do not have such a variant\n",
        "  #All iterations are arbitrary numbers\n",
        "  #If (riskGene == 0 && age >= 55) -> riskGene2 iterated by 5\n",
        "  #If (riskGene == 40 && age == low) -> riskGene2 iterated by 10\n",
        "  #If (riskGene == 40 && age >= 55) -> riskGene2 iterated by 15\n",
        "  #output risk factor on scale"
      ]
    },
    {
      "cell_type": "code",
      "execution_count": null,
      "metadata": {
        "id": "_F5h9qXb3B4p"
      },
      "outputs": [],
      "source": [
        "import os.path\n",
        "# Load the genome sequence \n",
        "DATA_FILE_GITHUB = 'https://raw.githubusercontent.com/tejalsbhor/HACKATHON-/main/BRACA'\n",
        "fileName = 'BRACA'\n",
        "\n",
        "#Does the file exists locally, if not get it from the github\n",
        "if not os.path.exists(fileName):\n",
        "  #Load the file from Github to the local folder\n",
        "  !wget --no-check-certificate --content-disposition $DATA_FILE_GITHUB\n",
        "# Read in the string from the file\n",
        "with open(fileName, \"r\") as myfile:\n",
        "    file_input = myfile.read()"
      ]
    },
    {
      "cell_type": "code",
      "execution_count": null,
      "metadata": {
        "id": "DBe8L06-Zkra"
      },
      "outputs": [],
      "source": [
        "def BRCA1geneSeq(promptResponse):\n",
        "  risk = 0\n",
        "  #prompt = ask if you have a family history of breast cancer\n",
        "  # if promptResponse = yes\n",
        "    # prompt = do you have your brca genome sequence to compare to brca gene\n",
        "      #if yes, ask for file input & call this function\n",
        "  # else, here is your risk based on your environmental factors\n",
        "  #familyInput = input(\"Do you have family history of breast cancer? \\\"Yes\\\" or \\\"No\\\" \")\n",
        "  #if (familyInput == \"Yes\"):\n",
        "    #risk += 1\n",
        "  if promptResponse == \"Skip\":\n",
        "    return risk\n",
        "  else:  \n",
        "    open_file = True\n",
        "    while open_file:\n",
        "        try:\n",
        "            filename = input ('Enter your BRCA genome sequence file (.txt):')\n",
        "            x = open(filename, 'r')\n",
        "            x.close()\n",
        "            open_file = False\n",
        "        except FileNotFoundError:\n",
        "            print (\"This file does not exist. Please enter a file name that exists.\")\n",
        "    #return filename\n",
        "    with open(filename, 'r') as infile:\n",
        "      patientSeq = infile.read()\n",
        "      for index in (0, len(patientSeq) - 1):\n",
        "          if file_input[index] != patientSeq[index]:\n",
        "          #Mutations in this gene are responsible for approximately 40% of inherited breast cancers \n",
        "            risk += 4\n",
        "            return risk\n",
        "    return risk"
      ]
    },
    {
      "cell_type": "code",
      "execution_count": null,
      "metadata": {
        "colab": {
          "base_uri": "https://localhost:8080/"
        },
        "id": "Elq5Uej-XHuj",
        "outputId": "3eaafba8-31d1-46fd-d9be-d61dfa6327ce"
      },
      "outputs": [
        {
          "output_type": "stream",
          "name": "stdout",
          "text": [
            "Enter your sex. M for Male, F for Female M\n",
            "How old are you? 16\n",
            "Have you consumed alcohol in the past 30 days? \"Yes\" or \"No\" No\n",
            "Do you work or live in a place with toxic chemicals and/or radiation? \"Yes\" or \"No\" No\n",
            "Do you take hormone-distrupting medications? Examples include birth control and antidepressants. \"Yes\" or \"No\" No\n",
            "Scale your general health from 1-5, 1 being excellent and 5 being poor. 5\n",
            "Do you have a BRCA-1 genome sequence? Enter \"Yes\", Otherwise enter \"Skip\"Yes\n",
            "Enter your BRCA genome sequence file (.txt):BRCA1.txt\n",
            "We detected a mutation in your BRCA-1 genome sequence\n",
            "Your overall risk is  50.0 %\n"
          ]
        }
      ],
      "source": [
        "def sexAge(risk):\n",
        "    sexInput = str(input(\"Enter your sex. M for Male, F for Female \"))\n",
        "    ageInput = int(input(\"How old are you? \"))\n",
        "        #based on https://seer.cancer.gov/statfacts/html/breast.html\n",
        "    if sexInput == \"F\":\n",
        "        risk+= 1\n",
        "        if 65 <= ageInput <= 74:\n",
        "            risk += 1\n",
        "        return risk\n",
        "        #based on https://www.cdc.gov/cancer/uscs/about/data-briefs/no19-male-breast-cancer-incidence-mortality-UnitedStates-2013-2017.htm\n",
        "    elif sexInput == \"M\":\n",
        "        if 60 <= ageInput <= 69:\n",
        "            risk += 1\n",
        "        return risk\n",
        "            #substances(self, risk)\n",
        "    else:\n",
        "        str(input(\"Please input F or M \"))\n",
        "        \n",
        "        #https://www.ncbi.nlm.nih.gov/pmc/articles/PMC3832299/#:~:text=Moderate%20alcohol%20consumption%20has%20been,increased%20risk%20in%20breast%20cancer.\n",
        "        #https://www.cancer.org/healthy/cancer-causes/diet-physical-activity/alcohol-use-and-cancer.html\n",
        "def substances(risk):\n",
        "    substancesInput = str(input(\"Have you consumed alcohol in the past 30 days? \\\"Yes\\\" or \\\"No\\\" \")) #even moderate alcohol use shows increased risk for breast cancer\n",
        "    if substancesInput == \"Yes\":\n",
        "        risk += 1\n",
        "    return risk \n",
        "                \n",
        "def exposure(risk):\n",
        "    exposureInput = str(input(\"Do you work or live in a place with toxic chemicals and/or radiation? \\\"Yes\\\" or \\\"No\\\" \"))\n",
        "    if exposureInput == \"Yes\":\n",
        "        risk += 1\n",
        "    return risk\n",
        "         \n",
        "def medicine(risk):\n",
        "    medicineInput = str(input(\"Do you take hormone-distrupting medications? Examples include birth control and antidepressants. \\\"Yes\\\" or \\\"No\\\" \"))\n",
        "    if medicineInput == \"Yes\":\n",
        "      risk += 1\n",
        "    return risk\n",
        "\n",
        "def healthCond(risk):\n",
        "  healthCond = int(input(\"Scale your general health from 1-5, 1 being excellent and 5 being poor. \"))\n",
        "  if not (healthCond >= 1 and healthCond <= 5):\n",
        "    healthCond = int(input(\"Please enter a number 1-5\"))\n",
        "  if healthCond == 4 or healthCond == 5:\n",
        "    risk += 1    \n",
        "  return risk\n",
        "\n",
        "def main():\n",
        "    risk = 0\n",
        "    riskSex = sexAge(risk)\n",
        "    riskSubstances = substances(riskSex)\n",
        "    riskExposure = exposure(riskSubstances)\n",
        "    medicineExposure = medicine(riskExposure)\n",
        "    environmentResult = healthCond(medicineExposure)\n",
        "\n",
        "    patientBRCA = input(\"Do you have a BRCA-1 genome sequence? Enter \\\"Yes\\\", Otherwise enter \\\"Skip\\\"\")\n",
        "    geneticResult = BRCA1geneSeq(patientBRCA)\n",
        "    if geneticResult == 4:\n",
        "      print(\"We detected a mutation in your BRCA-1 genome sequence\")\n",
        "      print(\"Your overall risk is \" , ((environmentResult + geneticResult) / 10) * 100 , \"%\")\n",
        "    else:\n",
        "      print(\"There is no mutation in your BRCA-1 genome sequence\")\n",
        "      print(f'Your overall risk is {((environmentResult / 10) * 100):0.2f}% ')\n",
        "    #Sum environmentResult & geneticResult\n",
        "    #I think we should separate them and say you have this must genetic risk & you have this much environment risk \n",
        "    #so overall you have high risk\n",
        "    # like if statements being like if geneticRisk = 0 and environmentRick > 0 you have both risks\n",
        "        \n",
        "if __name__ == \"__main__\": #allows main to run\n",
        "    main()"
      ]
    }
  ],
  "metadata": {
    "colab": {
      "provenance": [],
      "include_colab_link": true
    },
    "kernelspec": {
      "display_name": "Python 3",
      "name": "python3"
    },
    "language_info": {
      "name": "python"
    }
  },
  "nbformat": 4,
  "nbformat_minor": 0
}